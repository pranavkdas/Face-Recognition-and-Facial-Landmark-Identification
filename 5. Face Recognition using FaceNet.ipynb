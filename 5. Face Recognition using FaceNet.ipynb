{
 "cells": [
  {
   "cell_type": "code",
   "execution_count": 41,
   "metadata": {},
   "outputs": [],
   "source": [
    "import torch\n",
    "from facenet_pytorch import MTCNN, InceptionResnetV1\n",
    "from torchvision import datasets\n",
    "from torch.utils.data import DataLoader\n",
    "import cv2\n",
    "\n",
    "def collate_fn(x):\n",
    "    return x[0]"
   ]
  },
  {
   "cell_type": "code",
   "execution_count": 42,
   "metadata": {},
   "outputs": [],
   "source": [
    "mtcnn = MTCNN(image_size=240)\n",
    "resnet = InceptionResnetV1(pretrained='vggface2').eval()\n",
    "\n",
    "dataset = datasets.ImageFolder('images/face_recog')\n",
    "idx_to_class = {i:c for c,i in dataset.class_to_idx.items()}\n",
    "\n",
    "loader = DataLoader(dataset, collate_fn=collate_fn)"
   ]
  },
  {
   "cell_type": "code",
   "execution_count": 46,
   "metadata": {},
   "outputs": [],
   "source": [
    "names = [] \n",
    "face_embeddings = [] \n",
    "\n",
    "for img, idx in loader:\n",
    "    face, prob = mtcnn(img, return_prob=True) \n",
    "    if face is not None and prob>0.90:\n",
    "        embedded_data = resnet(face.unsqueeze(0)) \n",
    "        face_embeddings.append(embedded_data.detach())\n",
    "        names.append(idx_to_class[idx])\n",
    "\n",
    "# save data.pt file\n",
    "data = [face_embeddings, names]\n",
    "torch.save(data, 'saved_models/face_recog_model.pt') "
   ]
  },
  {
   "cell_type": "code",
   "execution_count": 49,
   "metadata": {},
   "outputs": [
    {
     "name": "stdout",
     "output_type": "stream",
     "text": [
      "Face matched with:  Michelle Obama\n"
     ]
    }
   ],
   "source": [
    "def recognize_face(img_path, model_path): \n",
    "    img = cv2.cvtColor(cv2.imread(img_path), cv2.COLOR_BGR2RGB)\n",
    "    face, prob = mtcnn(img, return_prob=True)\n",
    "    emb = resnet(face.unsqueeze(0)).detach()\n",
    "    \n",
    "    saved_model = torch.load('saved_models/face_recog_model.pt') \n",
    "    face_embeddings = saved_model[0]\n",
    "    names = saved_model[1] \n",
    "    dist_list = [] \n",
    "    \n",
    "    for idx, emb_db in enumerate(face_embeddings):\n",
    "        dist = torch.dist(emb, emb_db).item()\n",
    "        dist_list.append(dist)\n",
    "        \n",
    "    idx_min = dist_list.index(min(dist_list))\n",
    "    return (names[idx_min], min(dist_list))\n",
    "\n",
    "\n",
    "result = recognize_face('images/michelle_detected.png', 'saved_models/face_recog_model.pt')\n",
    "\n",
    "print('Face matched with: ', result[0])"
   ]
  },
  {
   "cell_type": "code",
   "execution_count": null,
   "metadata": {},
   "outputs": [],
   "source": []
  }
 ],
 "metadata": {
  "kernelspec": {
   "display_name": "Python 3",
   "language": "python",
   "name": "python3"
  },
  "language_info": {
   "codemirror_mode": {
    "name": "ipython",
    "version": 3
   },
   "file_extension": ".py",
   "mimetype": "text/x-python",
   "name": "python",
   "nbconvert_exporter": "python",
   "pygments_lexer": "ipython3",
   "version": "3.8.8"
  }
 },
 "nbformat": 4,
 "nbformat_minor": 2
}
